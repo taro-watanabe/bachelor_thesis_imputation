{
 "cells": [
  {
   "cell_type": "code",
   "execution_count": 2,
   "metadata": {},
   "outputs": [
    {
     "name": "stdout",
     "output_type": "stream",
     "text": [
      "Collecting h2o\n",
      "  Using cached h2o-3.32.1.3.tar.gz (164.8 MB)\n",
      "Requirement already satisfied: colorama>=0.3.8 in /usr/lib/python3/dist-packages (from h2o) (0.4.3)\n",
      "Requirement already satisfied: future in /usr/lib/python3/dist-packages (from h2o) (0.18.2)\n",
      "Requirement already satisfied: requests in /usr/lib/python3/dist-packages (from h2o) (2.22.0)\n",
      "Collecting tabulate\n",
      "  Using cached tabulate-0.8.9-py3-none-any.whl (25 kB)\n",
      "Building wheels for collected packages: h2o\n",
      "  Building wheel for h2o (setup.py) ... \u001b[?25ldone\n",
      "\u001b[?25h  Created wheel for h2o: filename=h2o-3.32.1.3-py2.py3-none-any.whl size=164854343 sha256=8a5449c1a7855d226297d58f287807daf88bd180ed6046aa879e0d867eaefd3b\n",
      "  Stored in directory: /home/yutaro/.cache/pip/wheels/94/de/98/a3badf41ac2c2b02dc1a21c9b8f8d435b5eb68a52f9df8d3c1\n",
      "Successfully built h2o\n",
      "Installing collected packages: tabulate, h2o\n",
      "Successfully installed h2o-3.32.1.3 tabulate-0.8.9\n",
      "Note: you may need to restart the kernel to use updated packages.\n"
     ]
    }
   ],
   "source": [
    "pip install h2o"
   ]
  },
  {
   "cell_type": "code",
   "execution_count": 4,
   "metadata": {},
   "outputs": [
    {
     "name": "stdout",
     "output_type": "stream",
     "text": [
      "Collecting matplotlib\n",
      "  Using cached matplotlib-3.4.2-cp38-cp38-manylinux1_x86_64.whl (10.3 MB)\n",
      "Requirement already satisfied: numpy>=1.16 in /home/yutaro/.local/lib/python3.8/site-packages (from matplotlib) (1.20.3)\n",
      "Collecting cycler>=0.10\n",
      "  Using cached cycler-0.10.0-py2.py3-none-any.whl (6.5 kB)\n",
      "Requirement already satisfied: python-dateutil>=2.7 in /usr/lib/python3/dist-packages (from matplotlib) (2.7.3)\n",
      "Collecting pyparsing>=2.2.1\n",
      "  Using cached pyparsing-2.4.7-py2.py3-none-any.whl (67 kB)\n",
      "Collecting kiwisolver>=1.0.1\n",
      "  Using cached kiwisolver-1.3.1-cp38-cp38-manylinux1_x86_64.whl (1.2 MB)\n",
      "Requirement already satisfied: pillow>=6.2.0 in /usr/lib/python3/dist-packages (from matplotlib) (7.0.0)\n",
      "Requirement already satisfied: six in /usr/lib/python3/dist-packages (from cycler>=0.10->matplotlib) (1.14.0)\n",
      "Installing collected packages: cycler, pyparsing, kiwisolver, matplotlib\n",
      "Successfully installed cycler-0.10.0 kiwisolver-1.3.1 matplotlib-3.4.2 pyparsing-2.4.7\n",
      "Note: you may need to restart the kernel to use updated packages.\n"
     ]
    }
   ],
   "source": [
    "pip install matplotlib"
   ]
  },
  {
   "cell_type": "code",
   "execution_count": 5,
   "metadata": {},
   "outputs": [
    {
     "name": "stdout",
     "output_type": "stream",
     "text": [
      "Collecting scipy\n",
      "  Using cached scipy-1.6.3-cp38-cp38-manylinux1_x86_64.whl (27.2 MB)\n",
      "Requirement already satisfied: numpy<1.23.0,>=1.16.5 in /home/yutaro/.local/lib/python3.8/site-packages (from scipy) (1.20.3)\n",
      "Installing collected packages: scipy\n",
      "Successfully installed scipy-1.6.3\n",
      "Note: you may need to restart the kernel to use updated packages.\n"
     ]
    }
   ],
   "source": [
    "pip install scipy"
   ]
  },
  {
   "cell_type": "code",
   "execution_count": 6,
   "metadata": {
    "scrolled": true
   },
   "outputs": [],
   "source": [
    "import numpy as np\n",
    "import pandas as pd\n",
    "import os\n",
    "import h2o\n",
    "import matplotlib.pyplot as plt\n",
    "from scipy.stats import norm\n",
    "import statistics"
   ]
  },
  {
   "cell_type": "code",
   "execution_count": 7,
   "metadata": {},
   "outputs": [
    {
     "name": "stdout",
     "output_type": "stream",
     "text": [
      "Checking whether there is an H2O instance running at http://localhost:54321 ..... not found.\n",
      "Attempting to start a local H2O server...\n",
      "  Java Version: openjdk version \"11.0.11\" 2021-04-20; OpenJDK Runtime Environment (build 11.0.11+9-Ubuntu-0ubuntu2.20.04); OpenJDK 64-Bit Server VM (build 11.0.11+9-Ubuntu-0ubuntu2.20.04, mixed mode, sharing)\n",
      "  Starting server from /home/yutaro/.local/lib/python3.8/site-packages/h2o/backend/bin/h2o.jar\n",
      "  Ice root: /tmp/tmpkxv1sv0p\n",
      "  JVM stdout: /tmp/tmpkxv1sv0p/h2o_yutaro_started_from_python.out\n",
      "  JVM stderr: /tmp/tmpkxv1sv0p/h2o_yutaro_started_from_python.err\n",
      "  Server is running at http://127.0.0.1:54321\n",
      "Connecting to H2O server at http://127.0.0.1:54321 ... successful.\n"
     ]
    },
    {
     "data": {
      "text/html": [
       "<div style=\"overflow:auto\"><table style=\"width:50%\"><tr><td>H2O_cluster_uptime:</td>\n",
       "<td>02 secs</td></tr>\n",
       "<tr><td>H2O_cluster_timezone:</td>\n",
       "<td>Asia/Tokyo</td></tr>\n",
       "<tr><td>H2O_data_parsing_timezone:</td>\n",
       "<td>UTC</td></tr>\n",
       "<tr><td>H2O_cluster_version:</td>\n",
       "<td>3.32.1.3</td></tr>\n",
       "<tr><td>H2O_cluster_version_age:</td>\n",
       "<td>27 days </td></tr>\n",
       "<tr><td>H2O_cluster_name:</td>\n",
       "<td>H2O_from_python_yutaro_593tmp</td></tr>\n",
       "<tr><td>H2O_cluster_total_nodes:</td>\n",
       "<td>1</td></tr>\n",
       "<tr><td>H2O_cluster_free_memory:</td>\n",
       "<td>1.941 Gb</td></tr>\n",
       "<tr><td>H2O_cluster_total_cores:</td>\n",
       "<td>4</td></tr>\n",
       "<tr><td>H2O_cluster_allowed_cores:</td>\n",
       "<td>4</td></tr>\n",
       "<tr><td>H2O_cluster_status:</td>\n",
       "<td>accepting new members, healthy</td></tr>\n",
       "<tr><td>H2O_connection_url:</td>\n",
       "<td>http://127.0.0.1:54321</td></tr>\n",
       "<tr><td>H2O_connection_proxy:</td>\n",
       "<td>{\"http\": null, \"https\": null}</td></tr>\n",
       "<tr><td>H2O_internal_security:</td>\n",
       "<td>False</td></tr>\n",
       "<tr><td>H2O_API_Extensions:</td>\n",
       "<td>Amazon S3, XGBoost, Algos, AutoML, Core V3, TargetEncoder, Core V4</td></tr>\n",
       "<tr><td>Python_version:</td>\n",
       "<td>3.8.5 final</td></tr></table></div>"
      ],
      "text/plain": [
       "--------------------------  ------------------------------------------------------------------\n",
       "H2O_cluster_uptime:         02 secs\n",
       "H2O_cluster_timezone:       Asia/Tokyo\n",
       "H2O_data_parsing_timezone:  UTC\n",
       "H2O_cluster_version:        3.32.1.3\n",
       "H2O_cluster_version_age:    27 days\n",
       "H2O_cluster_name:           H2O_from_python_yutaro_593tmp\n",
       "H2O_cluster_total_nodes:    1\n",
       "H2O_cluster_free_memory:    1.941 Gb\n",
       "H2O_cluster_total_cores:    4\n",
       "H2O_cluster_allowed_cores:  4\n",
       "H2O_cluster_status:         accepting new members, healthy\n",
       "H2O_connection_url:         http://127.0.0.1:54321\n",
       "H2O_connection_proxy:       {\"http\": null, \"https\": null}\n",
       "H2O_internal_security:      False\n",
       "H2O_API_Extensions:         Amazon S3, XGBoost, Algos, AutoML, Core V3, TargetEncoder, Core V4\n",
       "Python_version:             3.8.5 final\n",
       "--------------------------  ------------------------------------------------------------------"
      ]
     },
     "metadata": {},
     "output_type": "display_data"
    }
   ],
   "source": [
    "h2o.init()"
   ]
  },
  {
   "cell_type": "code",
   "execution_count": 8,
   "metadata": {},
   "outputs": [],
   "source": [
    "def load_model(name, path='Video_Game_Results'):\n",
    "    model = h2o.load_model(str(path) + str(name))\n",
    "    print(model)\n",
    "    print(model.mse(xval=True))\n",
    "\n",
    "    print(\"&&&&&&&&&&&&&&&&&&&&&&&&&&&&&&&&&&&&&&&&&&&&&&&&&&&&&\")\n",
    "    print(str(model))\n",
    "    print(\"*********************************************\")\n",
    "    print(model.scoring_history())\n",
    "    print(model.summary().as_data_frame())\n",
    "\n",
    "    df = model.summary().as_data_frame()\n",
    "    print(\"**********************************\")\n",
    "    print(\"$$$$$$$$$$$$$$$$$$$$$$$$$$$$$$$$$$$$$$$$$$$$$$$$$$$$$$$$$$$$$$$$$\")\n",
    "    print(type(str(model)))\n",
    "\n",
    "    myText = open(rf'{str(path) + str(name)}.txt', 'w')\n",
    "    myString = str(model)\n",
    "    myText.write(myString)\n",
    "    myText.close()\n",
    "    print(\"--------------------------\")\n",
    "    print(type(model.save_model_details))\n",
    "    df.to_latex(f'{str(path) + str(name)}')\n",
    "\n",
    "    return model"
   ]
  },
  {
   "cell_type": "code",
   "execution_count": 9,
   "metadata": {},
   "outputs": [],
   "source": [
    "def save_accuracy(path):\n",
    "    df = pd.DataFrame({'MSE': []})\n",
    "    try:\n",
    "        os.mkdir(f'{path + \"meta\"}')\n",
    "    except:\n",
    "        pass\n",
    "\n",
    "    for filename in os.listdir(path):\n",
    "        try:\n",
    "            model = h2o.load_model(str(path) + str(filename))\n",
    "            #print()\n",
    "            #df.append(dict(MSE=model.mse(xval=True)), ignore_index=True)\n",
    "\n",
    "            temp_df = pd.DataFrame({'MSE': [model.mse(xval=True)]})\n",
    "            #print(df)\n",
    "\n",
    "            df = df.append(temp_df)\n",
    "\n",
    "            #scores = model.scoring_history()\n",
    "            #print(model)\n",
    "\n",
    "            #if model.summary():\n",
    "             #   summary = model.summary().as_data_frame()\n",
    "\n",
    "            #lse:\n",
    "             #   summary = pd.DataFrame({'Placeholder': [\"Stackensenble has no summary\"]})\n",
    "\n",
    "           # print(summary)\n",
    "           # print(\"+++++++++++++++++++++++++++++++++++++\")\n",
    "\n",
    "          #  if scores is None:\n",
    "                #scores = pd.DataFrame()\n",
    "           #     pass\n",
    "            #if not scores.empty:\n",
    "             #   pass\n",
    "                #scores.to_latex(f'{str(path) + \"meta/\" + str(filename) + \"_\" + \"scores\"}')\n",
    "            #else:\n",
    "             #   pass\n",
    "            #summary.to_latex(f'{str(path) + \"meta/\" + str(filename) + \"_\" + \"summary\"}')\n",
    "\n",
    "        except:\n",
    "            pass\n",
    "    df.index = np.arange(len(df))\n",
    "    df = df[:30]\n",
    "    #df.to_latex(f'{str(path) + \"meta/\" + str(filename) + \"_\" + \"MSEjoined\"}')\n",
    "\n",
    "    return df\n"
   ]
  },
  {
   "cell_type": "code",
   "execution_count": null,
   "metadata": {},
   "outputs": [
    {
     "name": "stdout",
     "output_type": "stream",
     "text": [
      "0     0.959653\n",
      "1     0.029339\n",
      "2    -0.860966\n",
      "3    -1.560796\n",
      "4    -0.033968\n",
      "5    -1.321565\n",
      "6     0.778383\n",
      "7     0.011063\n",
      "8     0.096882\n",
      "9     0.910768\n",
      "10    0.413433\n",
      "11   -1.271642\n",
      "12    0.531379\n",
      "13   -0.058110\n",
      "14    1.468604\n",
      "15    1.769711\n",
      "16    0.430074\n",
      "17    0.073521\n",
      "18    0.924833\n",
      "19    0.700320\n",
      "20    1.938838\n",
      "21    0.472532\n",
      "22   -1.072865\n",
      "23    0.184907\n",
      "24   -1.220243\n",
      "25   -1.184000\n",
      "26   -1.227524\n",
      "27   -1.175625\n",
      "28   -1.251380\n",
      "29    0.544442\n",
      "Name: MSE, dtype: float64\n"
     ]
    },
    {
     "data": {
      "image/png": "[encoded data removed]",
      "text/plain": [
       "<Figure size 432x288 with 1 Axes>"
      ]
     },
     "metadata": {
      "needs_background": "light"
     },
     "output_type": "display_data"
    },
    {
     "name": "stdout",
     "output_type": "stream",
     "text": [
      "0     1.129475\n",
      "1    -0.673909\n",
      "2    -0.572440\n",
      "3    -0.655244\n",
      "4     2.012265\n",
      "5    -0.572865\n",
      "6    -0.651437\n",
      "7    -0.040156\n",
      "8     0.507292\n",
      "9    -0.612229\n",
      "10   -0.640646\n",
      "11    1.981803\n",
      "12   -0.651682\n",
      "13    1.113158\n",
      "14   -0.612122\n",
      "15   -0.675381\n",
      "16   -0.600433\n",
      "17   -0.440585\n",
      "18   -0.398124\n",
      "19   -0.519801\n",
      "20   -0.298958\n",
      "21   -0.654212\n",
      "22   -0.615350\n",
      "23   -0.645392\n",
      "24    1.987488\n",
      "25    2.127776\n",
      "26    1.525231\n",
      "27   -0.614768\n",
      "28   -0.620343\n",
      "29   -0.618410\n",
      "Name: MSE, dtype: float64\n"
     ]
    },
    {
     "data": {
      "image/png": "[encoded data removed]",
      "text/plain": [
       "<Figure size 432x288 with 1 Axes>"
      ]
     },
     "metadata": {
      "needs_background": "light"
     },
     "output_type": "display_data"
    },
    {
     "name": "stdout",
     "output_type": "stream",
     "text": [
      "0     0.298861\n",
      "1     0.292846\n",
      "2    -0.325107\n",
      "3     0.299039\n",
      "4     0.791294\n",
      "5    -0.168850\n",
      "6     0.429206\n",
      "7     0.183386\n",
      "8     0.097801\n",
      "9     0.580652\n",
      "10   -0.076239\n",
      "11    1.054314\n",
      "12    0.584927\n",
      "13   -0.399202\n",
      "14    0.283103\n",
      "15    0.789550\n",
      "16    0.658648\n",
      "17   -0.088800\n",
      "18    0.417423\n",
      "19    0.282893\n",
      "20   -0.096566\n",
      "21   -0.176478\n",
      "22   -0.002958\n",
      "23    0.548327\n",
      "24    0.716882\n",
      "25   -3.456799\n",
      "26   -3.386727\n",
      "27   -0.099298\n",
      "28    0.215625\n",
      "29   -0.247752\n",
      "Name: MSE, dtype: float64\n"
     ]
    },
    {
     "data": {
      "image/png": "[encoded data removed]",
      "text/plain": [
       "<Figure size 432x288 with 1 Axes>"
      ]
     },
     "metadata": {
      "needs_background": "light"
     },
     "output_type": "display_data"
    },
    {
     "name": "stdout",
     "output_type": "stream",
     "text": [
      "0     0.206528\n",
      "1    -1.075806\n",
      "2    -0.667997\n",
      "3    -0.241077\n",
      "4     0.919600\n",
      "5     1.449910\n",
      "6     0.419264\n",
      "7    -2.184773\n",
      "8     0.835470\n",
      "9    -0.141524\n",
      "10   -1.104677\n",
      "11   -0.373241\n",
      "12   -0.600088\n",
      "13    1.367891\n",
      "14    1.230778\n",
      "15    0.966900\n",
      "16    1.834175\n",
      "17   -1.203717\n",
      "18    1.164434\n",
      "19   -0.991071\n",
      "20    0.208262\n",
      "21   -0.035287\n",
      "22   -0.703103\n",
      "23    0.852199\n",
      "24   -0.719545\n",
      "25    0.470725\n",
      "26   -0.708733\n",
      "27    0.833371\n",
      "28   -0.637185\n",
      "29   -1.371683\n",
      "Name: MSE, dtype: float64\n"
     ]
    },
    {
     "data": {
      "image/png": "[encoded data removed]",
      "text/plain": [
       "<Figure size 432x288 with 1 Axes>"
      ]
     },
     "metadata": {
      "needs_background": "light"
     },
     "output_type": "display_data"
    },
    {
     "name": "stdout",
     "output_type": "stream",
     "text": [
      "0     0.217099\n",
      "1     0.431307\n",
      "2     0.512415\n",
      "3     1.468534\n",
      "4    -0.880813\n",
      "5    -1.190349\n",
      "6    -0.882918\n",
      "7     0.455361\n",
      "8     0.810436\n",
      "9    -1.199339\n",
      "10    0.314147\n",
      "11    0.552003\n",
      "12   -1.010400\n",
      "13   -1.211599\n",
      "14   -0.931981\n",
      "15   -0.972285\n",
      "16   -1.253171\n",
      "17    0.960186\n",
      "18    1.064811\n",
      "19   -0.928310\n",
      "20   -1.018622\n",
      "21    0.184191\n",
      "22    1.119029\n",
      "23    1.116574\n",
      "24    0.554972\n",
      "25    0.957367\n",
      "26    1.998088\n",
      "27   -0.887548\n",
      "28   -1.233491\n",
      "29    0.884305\n",
      "Name: MSE, dtype: float64\n"
     ]
    },
    {
     "data": {
      "image/png": "[encoded data removed]",
      "text/plain": [
       "<Figure size 432x288 with 1 Axes>"
      ]
     },
     "metadata": {
      "needs_background": "light"
     },
     "output_type": "display_data"
    }
   ],
   "source": [
    "\n",
    "for items in os.listdir(\"./\"):\n",
    "    df = save_accuracy('/home/yutaro/Bocconi/Video_Game_Results/' + items + '/')\n",
    "\n",
    "    mean = df['MSE'].mean()\n",
    "    var = df['MSE'].var()\n",
    "    normalized = (df['MSE'] - mean)/((var)**0.5)\n",
    "\n",
    "    print(normalized)\n",
    "    normalized.hist(bins=10)\n",
    "\n",
    "    x_axis = np.arange(-20, 20, 0.01)\n",
    "    plt.plot(x_axis, norm.pdf(x_axis, mean, (var)**0.5))\n",
    "\n",
    "    plt.show(block=True)"
   ]
  },
  {
   "cell_type": "code",
   "execution_count": null,
   "metadata": {},
   "outputs": [],
   "source": []
  }
 ],
 "metadata": {
  "kernelspec": {
   "display_name": "Python 3",
   "language": "python",
   "name": "python3"
  },
  "language_info": {
   "codemirror_mode": {
    "name": "ipython",
    "version": 3
   },
   "file_extension": ".py",
   "mimetype": "text/x-python",
   "name": "python",
   "nbconvert_exporter": "python",
   "pygments_lexer": "ipython3",
   "version": "3.8.5"
  }
 },
 "nbformat": 4,
 "nbformat_minor": 4
}
